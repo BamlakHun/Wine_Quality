import numpy as np
import matplotlib.pyplot as plt
import seaborn as sns
import pandas as pd
import pygwalker as pyg


white_wine_df_orig = pd.read_csv(filename_white, sep=';')
red_wine_df_orig = pd.read_csv(filename_red, sep=';')


white_wine_df_orig.head()



red_wine_df_orig.head()



white_wine_df = white_wine_df_orig.copy()
red_wine_df = red_wine_df_orig.copy()

white_wine_df['type'] = 'white'
red_wine_df['type'] = 'red'


white_wine_df.info()



red_wine_df.info()



frames = [white_wine_df, red_wine_df]

wines_df = pd.concat(frames, ignore_index=True)

wines_df.info()


wines_df.head()


wines_df.groupby(["quality", "type"]).head()



pyg.walk(wines_df)



plt.rcParams['figure.figsize'] = [10, 7]
plt.rc('font', family='serif')

plt.suptitle("Distribution of Wine Quality and Color", fontsize=20)
plt.xlabel("xlabel", fontsize=18)
plt.ylabel("ylabel", fontsize=16)
plt.grid(True, linestyle='--')


ax = sns.countplot(
    x="quality", hue="type", data=wines_df, palette=["#da627d", "#f9dbbd"]
)
ax.set(xlabel="Wine Quality Rating", ylabel="Number of Bottles")

# Print the wines distribution by quality and type and compute sizes
wines_df.groupby(["quality", "type"]).size()


# Outlier identification: Red Wine case
# calculate interquartile range IQR

dataRed = red_wine_df.copy()
dataRedColsList = dataRed.columns[0:12]

for i_col in dataRedColsList:
  dataRed_i = dataRed.loc[:,i_col]
  q25, q75 = dataRed_i.quantile(q=0.25), dataRed_i.quantile(q=0.75)
  IQR = q75 - q25
  print(' ')
  print(i_col, 'q25=', q25, 'q75=', q75, 'IQR=', IQR)

  # calculate the outlier cutoff
  cut_off = IQR * 1.5
  lower, upper = q25 - cut_off, q75 + cut_off
  print('lower, upper:', lower, upper)

  # Count the number of outliers outside the (lower, upper) limits
  print('Number of Outliers: ', dataRed_i[(dataRed_i < lower) | (dataRed_i > upper)].count())



dataRed.head()



#melt data frame into long format
red_wine_df_melted = pd.melt(red_wine_df_orig)

#view first 10 rows of melted data frame
red_wine_df_melted.head(10)


red_wine_df_melted['value'] = pd.to_numeric(red_wine_df_melted['value'], errors='coerce')
red_wine_df_melted.info()


red_wine_df_melted.tail()


plt.rcParams['figure.figsize'] = [15, 10]
plt.rc('font', family='serif')


sns.boxplot( x=red_wine_df_melted['variable'], y=red_wine_df_melted['value'], hue=red_wine_df_melted['variable'], width=0.80);

plt.xlabel("Variables")
plt.xticks(rotation=90)
plt.ylabel("Values")
plt.title('Red wine components boxplot')

plt.show();


plt.rcParams['figure.figsize'] = [15, 10]
plt.rc('font', family='serif')



sns.boxplot( x=red_wine_df_melted['variable'], y=red_wine_df_melted['value'], width=0.80);

plt.xlabel("Variables")
plt.xticks(rotation=90)
plt.ylabel("Values")
plt.yscale('log')


plt.show();


print(red_wine_df.dtypes)

numeric_columns = red_wine_df.select_dtypes(include=['number']).columns

grouped_data = red_wine_df[numeric_columns].groupby("quality").mean()

grouped_data.plot.bar(stacked=False, cmap="RdYlBu", figsize=(15, 5))

plt.show()


print(red_wine_df.dtypes)

numeric_columns = red_wine_df.select_dtypes(include=['number']).columns

grouped_data = red_wine_df[numeric_columns].groupby('quality').mean()

grouped_data.plot.bar(
    stacked=True, cmap="RdYlBu", figsize=(15, 5)
)

plt.rcParams["font.family"] = "serif"  # Set font family to serif
plt.suptitle(
    "Average Chemical Distribution Across Red Wine Of Different Qualities", fontsize=20
)
plt.xticks(size=18, rotation="horizontal")  # Set font size for x-axis labels
plt.xlabel("Quality", fontsize=18)  # Set font size for x-axis label

plt.legend(loc="lower center", bbox_to_anchor=(0.5, -0.48), ncol=4, fontsize=15)

plt.show()




red_wine_df_new = red_wine_df.copy()

category = []

for row in red_wine_df_new['quality']:
    if row >= 7:
        category.append('Phenomenal')
    elif row <= 4:
        category.append('Terrible')
    else:
        category.append('Average')

red_wine_df_new['category'] = category

red_wine_df_new.drop(['quality'], axis=1, inplace=True)

red_wine_df_new['category'] = pd.Categorical(red_wine_df_new['category'], categories=['Terrible', 'Average', 'Phenomenal'], ordered=True)
red_wine_df_new = red_wine_df_new.sort_values(by='category')


red_wine_df_new.groupby(["category"]).mean(numeric_only=True).plot.bar(
    stacked=True, cmap="RdYlBu", figsize=(15, 5)
)

plt.rcParams['font.family'] = "serif"  # Set font family to serif
plt.suptitle('Average Chemical Distribution Across Red Wine Of Different Qualities', fontsize=20)
plt.xticks(size=18, rotation='horizontal')  # Set font size and rotation for x-axis labels
plt.xlabel('Quality', fontsize=18)  # Set font size for x-axis label

plt.legend(loc="lower center", bbox_to_anchor=(0.5, -0.48), ncol=4, fontsize=15)

plt.show()

print(red_wine_df_new.groupby("category").mean(numeric_only=True))



sns.scatterplot(
    x="alcohol",
    y="citric acid",
    data=red_wine_df_new,
    palette=["red", "orange", "olive"],
    hue="category",
)


plt.rcParams["font.family"] = "serif"
plt.suptitle(
    "Comparing Citric Acid and Alcohol Content Across Each Category Of Red Wine",
    fontsize=20,
)

plt.xlabel("Alcohol as % of Volume", size=18)
plt.ylabel("Citric Acid in g/ Cubic Decimeter", size=18)

plt.title("", size=24)
plt.show();


plt.rcParams["font.family"] = "serif"
plt.suptitle(
    "Average Chemical Distribution Across Red Wine Of Different Qualities", fontsize=20
)

sns.relplot(
    x="alcohol",
    y="residual sugar",
    hue="category",
    size="alcohol",
    sizes=(40, 400),
    alpha=0.5,
    palette=["red", "orange", "olive"],
    height=5,
    data=red_wine_df_new.groupby("category")
    .apply(lambda x: x.sample(22))
    .reset_index(drop=True),
)

plt.xlabel("Alcohol Content", size=18)
plt.ylabel("Residual Sugar Content", size=18)

plt.title("Alcohol vs. Sugar Content In Each Category of Wine", size=22)
plt.show();



numeric_cols = red_wine_df.select_dtypes(include=[np.number])

corr = numeric_cols.corr()

mask = np.triu(np.ones_like(corr, dtype=bool))

f, ax = plt.subplots(figsize=(11, 9))

cmap = sns.diverging_palette(230, 20, as_cmap=True)

sns.heatmap(
    corr,
    mask=mask,
    cmap="viridis",  # You can use 'viridis' or any other color palette
    annot=True,
    vmax=0.3,
    center=0,
    square=True,
    linewidths=0.5,
    cbar_kws={"shrink": 0.5},
)

plt.title("Correlations Between Compounds In Red Wine", size=24)

plt.show()



numeric_cols = white_wine_df.select_dtypes(include=[np.number])

if numeric_cols.empty:
    raise ValueError("No numeric columns available in the DataFrame.")

corr = numeric_cols.corr()

mask = np.triu(np.ones_like(corr, dtype=bool))

f, ax = plt.subplots(figsize=(11, 9))

cmap = sns.diverging_palette(230, 20, as_cmap=True)

sns.heatmap(
    corr,
    mask=mask,
    cmap="viridis",  # You can use 'viridis' or any other color palette
    annot=True,
    vmax=0.3,
    center=0,
    square=True,
    linewidths=0.5,
    cbar_kws={"shrink": 0.5},
)

plt.title("Correlations Between Compounds In White Wine", size=24)

plt.show()



wines_df[wines_df['quality'] >= 7].groupby(["type"]).mean().plot.bar(
    stacked=True, cmap="RdYlBu", figsize=(15, 5)
)

plt.rcParams["font.family"] = "serif"
plt.suptitle(
    "Comparing Average Chemical Distribution Across High-Quality Red and White Wines", fontsize=20
)
plt.xticks(size=18, rotation="horizontal")
plt.xlabel("Quality", fontsize=18)

plt.legend(loc="lower center", bbox_to_anchor=(0.5, -0.48), ncol=4, fontsize=15)
plt.show();

wines_df[wines_df['quality'] >= 7].groupby("type").mean()
